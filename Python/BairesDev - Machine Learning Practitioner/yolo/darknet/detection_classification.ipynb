{
  "nbformat": 4,
  "nbformat_minor": 0,
  "metadata": {
    "colab": {
      "provenance": [],
      "toc_visible": true,
      "gpuType": "T4"
    },
    "kernelspec": {
      "name": "python3",
      "display_name": "Python 3"
    },
    "language_info": {
      "name": "python"
    },
    "accelerator": "GPU"
  },
  "cells": [
    {
      "cell_type": "code",
      "source": [
        "import cv2\n",
        "from google.colab.patches import cv2_imshow\n",
        "from darknet import *"
      ],
      "metadata": {
        "id": "ySp9i8bhSWGD"
      },
      "execution_count": 6,
      "outputs": []
    },
    {
      "cell_type": "code",
      "execution_count": null,
      "metadata": {
        "id": "dDpkSnouRZo4"
      },
      "outputs": [],
      "source": [
        "!git clone https://github.com/AlexeyAB/darknet"
      ]
    },
    {
      "cell_type": "code",
      "source": [
        "!wget https://github.com/AlexeyAB/darknet/releases/download/yolov4/yolov4.weights\n"
      ],
      "metadata": {
        "id": "DoYEjBxdSTwE"
      },
      "execution_count": null,
      "outputs": []
    },
    {
      "cell_type": "code",
      "source": [
        "%cd darknet"
      ],
      "metadata": {
        "id": "-SJY-1tXRvWC"
      },
      "execution_count": null,
      "outputs": []
    },
    {
      "cell_type": "code",
      "source": [
        "!sed -i 's/OPENCV=0/OPENCV=1/' Makefile\n",
        "!sed -i 's/GPU=0/GPU=1/' Makefile\n",
        "!sed -i 's/CUDNN=0/CUDNN=1/' Makefile\n",
        "!sed -i 's/LIBSO=0/LIBSO=1/' Makefile"
      ],
      "metadata": {
        "id": "8kvzKXS7Rxge"
      },
      "execution_count": 3,
      "outputs": []
    },
    {
      "cell_type": "code",
      "source": [
        "!make"
      ],
      "metadata": {
        "id": "zq4g9Et3RzEx"
      },
      "execution_count": null,
      "outputs": []
    },
    {
      "cell_type": "code",
      "source": [
        "network, class_names, class_colors = load_network(\"cfg/yolov4.cfg\", \"cfg/coco.data\", \"yolov4.weights\")\n",
        "width = network_width(network)\n",
        "height = network_height(network)"
      ],
      "metadata": {
        "id": "fJ_NscEsSX9w"
      },
      "execution_count": 7,
      "outputs": []
    },
    {
      "cell_type": "code",
      "source": [
        "def darknet_helper(img, width, height):\n",
        "    darknet_image = make_image(width, height, 3)\n",
        "    img_rgb = cv2.cvtColor(img, cv2.COLOR_BGR2RGB)\n",
        "    img_resized = cv2.resize(img_rgb, (width, height), interpolation=cv2.INTER_LINEAR)\n",
        "\n",
        "    # Obtém a razão da imagem para ajustar as caixas delimitadoras\n",
        "    img_height, img_width, _ = img.shape\n",
        "    width_ratio = img_width / width\n",
        "    height_ratio = img_height / height\n",
        "\n",
        "    # Executa a detecção\n",
        "    copy_image_from_bytes(darknet_image, img_resized.tobytes())\n",
        "    detections = detect_image(network, class_names, darknet_image)\n",
        "    free_image(darknet_image)\n",
        "\n",
        "    return detections, width_ratio, height_ratio"
      ],
      "metadata": {
        "id": "1lQ6TbhhUiOY"
      },
      "execution_count": 22,
      "outputs": []
    },
    {
      "cell_type": "code",
      "source": [
        "def detect_objects(image_path):\n",
        "    # Carrega a imagem\n",
        "    image = cv2.imread(image_path)\n",
        "\n",
        "    # Verifiqua se a imagem foi carregada corretamente\n",
        "    if image is None:\n",
        "        print(\"Erro ao carregar a imagem.\")\n",
        "        return\n",
        "\n",
        "    # Executa a detecção de objetos\n",
        "    detections, width_ratio, height_ratio = darknet_helper(image, width, height)\n",
        "\n",
        "    for label, confidence, bbox in detections:\n",
        "        # Converte a confiança para float antes de formatá-la\n",
        "        confidence = float(confidence)\n",
        "\n",
        "        left, top, right, bottom = bbox2points(bbox)\n",
        "        left, top, right, bottom = int(left * width_ratio), int(top * height_ratio), int(right * width_ratio), int(bottom * height_ratio)\n",
        "\n",
        "        # Desenha o retângulo e adicione o texto da detecção\n",
        "        cv2.rectangle(image, (left, top), (right, bottom), class_colors[label], 2)\n",
        "        cv2.putText(image, f\"{label} [{confidence:.2f}]\", (left, top - 5),\n",
        "                    cv2.FONT_HERSHEY_SIMPLEX, 0.5, class_colors[label], 2)\n",
        "\n",
        "    cv2_imshow(image)\n"
      ],
      "metadata": {
        "id": "oaElH2pqSbRx"
      },
      "execution_count": 17,
      "outputs": []
    },
    {
      "cell_type": "code",
      "source": [
        "!wget https://raw.githubusercontent.com/pjreddie/darknet/master/data/horses.jpg -O horses.jpg\n",
        "detect_objects(\"horses.jpg\")"
      ],
      "metadata": {
        "id": "5rlRO0PZSgh2"
      },
      "execution_count": null,
      "outputs": []
    }
  ]
}